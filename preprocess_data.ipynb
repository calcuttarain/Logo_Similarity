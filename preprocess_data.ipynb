{
 "cells": [
  {
   "cell_type": "markdown",
   "id": "8a6259cf",
   "metadata": {},
   "source": [
    "# Preprocess Logos\n",
    "\n",
    "Acest notebook prelucreaza logo-urile din folderul 'dataset/logos_raw/' si le salveaza in 'dataset/logos_preprocessed/'. Imaginile sunt redimensionate si se adauga fundal alb. De asemenea, pixelii prea deschisi la culoare sunt intunecati pentru a se distinge cand logo-ul e pe fundal alb. A fost o problema in special la svg-uri, pe care le-am curatat. "
   ]
  },
  {
   "cell_type": "code",
   "execution_count": null,
   "id": "bc75f220",
   "metadata": {},
   "outputs": [],
   "source": [
    "import os\n",
    "import io\n",
    "import numpy as np\n",
    "from PIL import Image, ImageOps\n",
    "from tqdm import tqdm\n",
    "import cairosvg\n",
    "import html\n",
    "from lxml import etree, html as lxml_html\n",
    "import sys\n",
    "from concurrent.futures import ThreadPoolExecutor, as_completed"
   ]
  },
  {
   "cell_type": "code",
   "execution_count": 2,
   "id": "b5a58fd7",
   "metadata": {},
   "outputs": [],
   "source": [
    "RAW_DIR = \"dataset/logos_raw\"\n",
    "OUT_DIR = \"dataset/logos_processed\"\n",
    "TARGET_SIZE = (256, 256)  \n",
    "BACKGROUND = (255, 255, 255)  \n",
    "MAX_WORKERS = 8  \n",
    "LOG_FAIL = os.path.join(OUT_DIR, \"failed_images.txt\")"
   ]
  },
  {
   "cell_type": "code",
   "execution_count": null,
   "id": "f3dbb063",
   "metadata": {},
   "outputs": [],
   "source": [
    "def sanitize_svg(svg_text):\n",
    "    try:\n",
    "        parser = lxml_html.HTMLParser()\n",
    "        root = lxml_html.fromstring(svg_text, parser=parser)\n",
    "        svg_elem = root.find(\".//svg\")\n",
    "        if svg_elem is not None:\n",
    "            cleaned = etree.tostring(svg_elem, encoding=\"unicode\")\n",
    "            return cleaned\n",
    "    except Exception:\n",
    "        pass\n",
    "    return svg_text"
   ]
  },
  {
   "cell_type": "code",
   "execution_count": null,
   "id": "4cebf50e",
   "metadata": {},
   "outputs": [],
   "source": [
    "def convert_svg_to_png_bytes(svg_path):\n",
    "    try:\n",
    "        with open(svg_path, \"r\", encoding=\"utf-8\", errors=\"ignore\") as f:\n",
    "            svg_text = f.read()\n",
    "\n",
    "        svg_text = html.unescape(svg_text)\n",
    "        svg_text = sanitize_svg(svg_text)\n",
    "\n",
    "        png_data = cairosvg.svg2png(bytestring=svg_text.encode(\"utf-8\"))\n",
    "        return png_data\n",
    "\n",
    "    except Exception as e:\n",
    "        return None"
   ]
  },
  {
   "cell_type": "code",
   "execution_count": null,
   "id": "480dc4fa",
   "metadata": {},
   "outputs": [],
   "source": [
    "def load_image(path):\n",
    "    ext = os.path.splitext(path)[1].lower()\n",
    "    if ext == \".svg\":\n",
    "        png_bytes = convert_svg_to_png_bytes(path)\n",
    "        if png_bytes is None:\n",
    "            return None\n",
    "        return Image.open(io.BytesIO(png_bytes)).convert(\"RGBA\")\n",
    "    try:\n",
    "        img = Image.open(path).convert(\"RGBA\")\n",
    "        return img\n",
    "    except Exception:\n",
    "        return None"
   ]
  },
  {
   "cell_type": "code",
   "execution_count": null,
   "id": "fc395215",
   "metadata": {},
   "outputs": [],
   "source": [
    "def dim_pure_white_pixels(img, threshold=250, new_color=(200,200,200)):\n",
    "    arr = np.array(img)\n",
    "    if arr.shape[-1] == 4:\n",
    "        rgb = arr[..., :3]\n",
    "    else:\n",
    "        rgb = arr\n",
    "\n",
    "    mask = np.all(rgb > threshold, axis=-1)\n",
    "\n",
    "    rgb[mask] = new_color\n",
    "\n",
    "    if arr.shape[-1] == 4:\n",
    "        arr[..., :3] = rgb\n",
    "    else:\n",
    "        arr = rgb\n",
    "\n",
    "    return Image.fromarray(arr.astype(np.uint8))"
   ]
  },
  {
   "cell_type": "code",
   "execution_count": null,
   "id": "daef269c",
   "metadata": {},
   "outputs": [],
   "source": [
    "def preprocess_image(img, size=(256, 256), background=(255,255,255)):\n",
    "    bbox = img.getbbox()\n",
    "    if bbox:\n",
    "        img = img.crop(bbox)\n",
    "\n",
    "    img = ImageOps.pad(img, size, method=Image.Resampling.LANCZOS, color=(0,0,0,0))\n",
    "\n",
    "    img = dim_pure_white_pixels(img)\n",
    "\n",
    "    if img.mode == \"RGBA\":\n",
    "        background_img = Image.new(\"RGB\", img.size, background)\n",
    "        background_img.paste(img, mask=img.split()[3])  \n",
    "        img = background_img\n",
    "    else:\n",
    "        img = img.convert(\"RGB\")\n",
    "\n",
    "    return img"
   ]
  },
  {
   "cell_type": "code",
   "execution_count": 8,
   "id": "c291ae48",
   "metadata": {},
   "outputs": [],
   "source": [
    "def process_all_images(input_dir=RAW_DIR, output_dir=OUT_DIR):\n",
    "    files = []\n",
    "    for root, _, fnames in os.walk(input_dir):\n",
    "        for fn in fnames:\n",
    "            if fn.lower().endswith((\".png\", \".jpg\", \".jpeg\", \".webp\", \".svg\")):\n",
    "                files.append(os.path.join(root, fn))\n",
    "\n",
    "    print(f\"Total imagini de procesat: {len(files)}\")\n",
    "\n",
    "    failed = []\n",
    "    MAX_WORKERS = min(8, os.cpu_count() or 4)\n",
    "\n",
    "    def worker(path):\n",
    "        try:\n",
    "            img = load_image(path)\n",
    "            if img is None:\n",
    "                return path, False\n",
    "            img_proc = preprocess_image(img, TARGET_SIZE, BACKGROUND)\n",
    "            out_name = os.path.splitext(os.path.basename(path))[0] + \".png\"\n",
    "            out_path = os.path.join(output_dir, out_name)\n",
    "            img_proc.save(out_path, \"PNG\")\n",
    "            return path, True\n",
    "        except Exception:\n",
    "            return path, False\n",
    "\n",
    "    with ThreadPoolExecutor(max_workers=MAX_WORKERS) as executor:\n",
    "        futures = {executor.submit(worker, path): path for path in files}\n",
    "        for future in tqdm(as_completed(futures), total=len(futures), desc=\"Processing logos\", dynamic_ncols=True):\n",
    "            path, ok = future.result()\n",
    "            if not ok:\n",
    "                failed.append(path)\n",
    "\n",
    "    if failed:\n",
    "        log_path = os.path.join(output_dir, \"failed_images.txt\")\n",
    "        with open(log_path, \"w\", encoding=\"utf-8\") as f:\n",
    "            f.write(\"\\n\".join(failed))\n",
    "        print(f\"\\n{len(failed)} imagini esuate.\")\n",
    "\n",
    "    print(f\"Procesare completa\")"
   ]
  },
  {
   "cell_type": "code",
   "execution_count": 9,
   "id": "672cd633",
   "metadata": {},
   "outputs": [
    {
     "name": "stdout",
     "output_type": "stream",
     "text": [
      "Total imagini de procesat: 2356\n"
     ]
    },
    {
     "name": "stderr",
     "output_type": "stream",
     "text": [
      "Processing logos: 100%|██████████| 2356/2356 [00:19<00:00, 119.79it/s]"
     ]
    },
    {
     "name": "stdout",
     "output_type": "stream",
     "text": [
      "\n",
      "42 imagini esuate.\n",
      "Procesare completa\n"
     ]
    },
    {
     "name": "stderr",
     "output_type": "stream",
     "text": [
      "\n"
     ]
    }
   ],
   "source": [
    "if __name__ == \"__main__\":\n",
    "    os.makedirs(OUT_DIR, exist_ok=True)\n",
    "    process_all_images()"
   ]
  }
 ],
 "metadata": {
  "kernelspec": {
   "display_name": ".logo_similarity",
   "language": "python",
   "name": "python3"
  },
  "language_info": {
   "codemirror_mode": {
    "name": "ipython",
    "version": 3
   },
   "file_extension": ".py",
   "mimetype": "text/x-python",
   "name": "python",
   "nbconvert_exporter": "python",
   "pygments_lexer": "ipython3",
   "version": "3.13.2"
  }
 },
 "nbformat": 4,
 "nbformat_minor": 5
}
